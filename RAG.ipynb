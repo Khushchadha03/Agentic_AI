{
 "cells": [
  {
   "cell_type": "code",
   "execution_count": 19,
   "id": "2f5f67eb",
   "metadata": {},
   "outputs": [
    {
     "name": "stdout",
     "output_type": "stream",
     "text": [
      "[RESPONSE] Large Language Models (LLMs) are a type of artificial intelligence (AI) designed to process and generate human-like language. These models are built on deep learning techniques, particularly a subset known as transformers. LLMs have advanced significantly in recent years, achieving remarkable capabilities in natural language understanding and generation. Below, we explore the key aspects of LLMs:\n",
      "\n",
      "---\n",
      "\n",
      "### 1. **Core Technology**\n",
      "   - **Transformers**: LLMs are typically based on the transformer architecture introduced in the landmark 2017 paper \"Attention is All You Need\" by Vaswani et al. Transformers leverage a mechanism called \"self-attention,\" which evaluates the relationships between different words or tokens in a sequence to understand context and semantics better than older architectures like RNNs or LSTMs.\n",
      "   - **Pre-training and Fine-tuning**: LLMs are pre-trained on massive datasets of text from the internet (e.g., books, articles, websites) using self-supervised learning. After pre-training, the models can be fine-tuned on specific datasets to improve performance on particular tasks.\n",
      "\n",
      "---\n",
      "\n",
      "### 2. **Training and Scale**\n",
      "   - **Scale of Parameters**: A key differentiating factor of LLMs is their size, measured by the\n"
     ]
    }
   ],
   "source": [
    "import os\n",
    "from dotenv import load_dotenv\n",
    "from openai import AzureOpenAI\n",
    "\n",
    "# Load environment variables from .env file\n",
    "load_dotenv()\n",
    "\n",
    "# Fetch API credentials from environment variables\n",
    "api_key = os.getenv('AZURE_OPENAI_GPT_4O_API_KEY') \n",
    "end_point = os.getenv('AZURE_OPENAI_GPT_4O_ENDPOINT')\n",
    "api_version = os.getenv('AZURE_OPENAI_GPT_4O_API_VERSION')\n",
    "\n",
    "# Initialize Azure OpenAI client\n",
    "llm_client = AzureOpenAI(\n",
    "    api_key=api_key,\n",
    "    azure_endpoint=end_point,\n",
    "    api_version=api_version\n",
    ")\n",
    "\n",
    "# Send a chat completion request to GPT-4o\n",
    "response = llm_client.chat.completions.create(\n",
    "    model=\"gpt-4o\",  # Azure model deployment name\n",
    "    messages=[\n",
    "        {\"role\": \"system\", \"content\": \"You are an AI assistant\"},\n",
    "        {\"role\": \"user\", \"content\": \"Tell me about the large language models\"},\n",
    "    ],\n",
    "    max_tokens=256\n",
    "    # temperature=0.7  # Uncomment to adjust randomness of responses\n",
    ")\n",
    "\n",
    "# Print only the model's reply\n",
    "print(f\"[RESPONSE] {response.choices[0].message.content}\")"
   ]
  },
  {
   "cell_type": "code",
   "execution_count": 20,
   "id": "c3b1274f",
   "metadata": {},
   "outputs": [
    {
     "data": {
      "text/plain": [
       "\"view more green business we are not only taking efforts to reduce our own environment footprint but we are also helping our customers create sustainable and green assets. l&tâ\\x80\\x99s offers a bouquet, termed â\\x80\\x98green businessâ\\x80\\x99, centered around clean energy, clean mobility, water and sanitation, green infrastructure, and other areas linked to a greener future. read more 3rd globally in enr's top 200 environmental firms l&t's green commitment has also been acknowledged globally by enr, a globally recognized construction industry publication. l&t has maintained 3rd rank for three consecutive years (2022-2024) in the top 200 environment firms survey by enr. innovation a key lever in our journey to decarbonizing and creating a better world is innovation, driven through r&d efforts, digitalization, sustainable design, and operational improvements. read more technology for sustainable growth view more green business we are not only taking efforts to reduce our own environment footprint but we are also helping our customers create sustainable and green assets. l&tâ\\x80\\x99s offers a bouquet, termed â\\x80\\x98green businessâ\\x80\\x99, centered around clean energy, clean mobility, water and sanitation, green infrastructure, and other areas linked to a greener future. read more 3rd globally in enr's top 200 environmental firms l&t's green commitment has also been acknowledged globally by enr, a globally recognized construction industry publication. l&t has maintained 3rd rank for three consecutive years (2022-2024) in the top 200 environment firms survey by enr. innovation a key lever in our journey to decarbonizing and creating a better world is innovation, driven through r&d efforts, digitalization, sustainable design, and operational improvements. read more technology for sustainable growth green business | l&t sustainability sustainability our approach materiality planet energy & emissions water circular economy biodiversity innovation green business climate strategy people csr - health csr - skill building csr - education jyoti csr - water & sanitation health & safety volunteering prayas trust governance green    business sustainability planet green business l&t offers a bouquet of sustainable solutions which helps its customers go green. these solutions, covered under our green business, are enabled through advanced technology, and centred around clean energy, clean mobility, water and sanitation, green infra and other areas linked to a green future. with our green businesses, we help our customers to lower carbon emissions, improve water use and recycling, enhance energy efficiency, reduce air pollution, and promote resource conservation. overall, we help preserve the environment as well as improve public well-being.\""
      ]
     },
     "execution_count": 20,
     "metadata": {},
     "output_type": "execute_result"
    }
   ],
   "source": [
    "from sentence_transformers import SentenceTransformer, CrossEncoder\n",
    "import chromadb\n",
    "\n",
    "# Load embedding and cross-encoder models\n",
    "embedding_model = SentenceTransformer('sentence-transformers/all-MiniLM-L6-v2')\n",
    "cross_encoder = CrossEncoder('cross-encoder/ms-marco-MiniLM-L-6-v2')\n",
    "\n",
    "# Initialize ChromaDB client\n",
    "chroma_client = chromadb.PersistentClient(path=\"knowledge_base\")\n",
    "collection = chroma_client.get_or_create_collection(name=\"embedding_collection\")\n",
    "\n",
    "def fetch_top_relevant_queries(query, collection, top_k=10):\n",
    "    query_embedding = embedding_model.encode(query).tolist()\n",
    "    results = collection.query(query_embeddings=[query_embedding], n_results=top_k)\n",
    "    return results['documents'][0], results['metadatas'][0], results['distances'][0]\n",
    "\n",
    "def retrieve_relevant_content(query):\n",
    "    documents, metadata, scores = fetch_top_relevant_queries(query, collection, top_k=10)\n",
    "    # Compute cross-encoder scores\n",
    "    scored_queries = []\n",
    "    for doc, meta, score in zip(documents, metadata, scores):\n",
    "        doc_text = doc.replace(\"\\n\", \" \")\n",
    "        cross_score = cross_encoder.predict([(query, doc_text)])[0]\n",
    "        scored_queries.append({\"document\": doc_text, \"metadata\": meta, \"similarity_score\": score, \"cross_encoder_score\": cross_score})\n",
    "\n",
    "    # Sort by cross-encoder score and take top 3\n",
    "    top_docs = sorted(scored_queries, key=lambda x: x['cross_encoder_score'], reverse=True)[:3]\n",
    "\n",
    "    # Combine top 3 documents into a single paragraph\n",
    "    combined_text = \" \".join([item['document'] for item in top_docs])\n",
    "\n",
    "    return combined_text\n",
    "\n",
    "\n",
    "retrieve_relevant_content(\"What is l and t doing for sustainability for enviornment?\")"
   ]
  },
  {
   "cell_type": "code",
   "execution_count": 21,
   "id": "c051a8de",
   "metadata": {},
   "outputs": [
    {
     "name": "stdout",
     "output_type": "stream",
     "text": [
      "The chairman of Larsen & Toubro (L&T) is **Mr. S.N. Subrahmanyan**, who serves as the Chairman and Managing Director. Additionally, **Mr. A.M. Naik** holds the title of Chairman Emeritus.\n"
     ]
    }
   ],
   "source": [
    "def enhance_prompt(query):\n",
    "    \"\"\"Enhances the user query to improve retrieval accuracy.\"\"\"\n",
    "    chat_completion = llm_client.chat.completions.create(\n",
    "        messages=[\n",
    "            {\"role\": \"system\", \"content\": \"You are an AI assistant for L&T group. Your task is to refine user queries for better information retrieval. Make the query clearer, more specific, and structured to help retrieve relevant documents accurately.\"},\n",
    "            {\"role\": \"user\", \"content\": f\"Enhance this query for better retrieval: {query}\"}\n",
    "        ],\n",
    "        model=\"gpt-4o\",\n",
    "        max_tokens=50\n",
    "    )\n",
    "    return chat_completion.choices[0].message.content.strip()\n",
    "\n",
    "def enhanced_llm_call(user_query):\n",
    "    \"\"\"Enhances query, retrieves relevant content, and gets final response.\"\"\"\n",
    "    \n",
    "    # Step 1: Enhance the query for better retrieval\n",
    "    refined_query = enhance_prompt(user_query)\n",
    "\n",
    "    # Step 2: Retrieve relevant content using the enhanced query\n",
    "    relevant_content = retrieve_relevant_content(refined_query)\n",
    "\n",
    "    # Step 3: Send both the retrieved content and the original user question to LLM\n",
    "    chat_completion = llm_client.chat.completions.create(\n",
    "        messages=[\n",
    "            {\"role\": \"system\", \"content\": \"You are an AI assistant. Answer the user's question using the given context.\"},\n",
    "            {\"role\": \"user\", \"content\": f\"Context:\\n{relevant_content}\\n\\nUser Question: {user_query}\"}\n",
    "        ],\n",
    "        model=\"gpt-4o\",\n",
    "        max_tokens=512\n",
    "    )\n",
    "\n",
    "    return chat_completion.choices[0].message.content\n",
    "\n",
    "# Example Usage\n",
    "user_query = \"Who is your chairman\"\n",
    "final_output = enhanced_llm_call(user_query)\n",
    "print(final_output)"
   ]
  }
 ],
 "metadata": {
  "kernelspec": {
   "display_name": "base",
   "language": "python",
   "name": "python3"
  },
  "language_info": {
   "codemirror_mode": {
    "name": "ipython",
    "version": 3
   },
   "file_extension": ".py",
   "mimetype": "text/x-python",
   "name": "python",
   "nbconvert_exporter": "python",
   "pygments_lexer": "ipython3",
   "version": "3.13.5"
  }
 },
 "nbformat": 4,
 "nbformat_minor": 5
}
