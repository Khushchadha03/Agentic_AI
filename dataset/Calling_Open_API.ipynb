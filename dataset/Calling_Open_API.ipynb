{
 "cells": [
  {
   "cell_type": "code",
   "execution_count": 34,
   "id": "d85fd879",
   "metadata": {},
   "outputs": [
    {
     "data": {
      "text/plain": [
       "True"
      ]
     },
     "execution_count": 34,
     "metadata": {},
     "output_type": "execute_result"
    }
   ],
   "source": [
    "import os\n",
    "from dotenv import load_dotenv\n",
    "from openai import OpenAI\n",
    "from openai import AzureOpenAI\n",
    "load_dotenv()"
   ]
  },
  {
   "cell_type": "code",
   "execution_count": null,
   "id": "22ccefbc",
   "metadata": {},
   "outputs": [],
   "source": []
  },
  {
   "cell_type": "code",
   "execution_count": 35,
   "id": "98a9e47a",
   "metadata": {},
   "outputs": [],
   "source": [
    "api_key = os.getenv('AZURE_OPENAI_GPT_4O_API_KEY') \n",
    "end_point = os.getenv('AZURE_OPENAI_GPT_4O_ENDPOINT')\n",
    "api_version = os.getenv('AZURE_OPENAI_GPT_4O_API_VERSION')"
   ]
  },
  {
   "cell_type": "code",
   "execution_count": 36,
   "id": "389372a3",
   "metadata": {},
   "outputs": [],
   "source": [
    "# pip install openai"
   ]
  },
  {
   "cell_type": "code",
   "execution_count": 37,
   "id": "563fa3c6",
   "metadata": {},
   "outputs": [],
   "source": [
    "\n",
    "client = AzureOpenAI(\n",
    "    api_key = api_key,\n",
    "    azure_endpoint = end_point,\n",
    "    api_version = api_version\n",
    ")"
   ]
  },
  {
   "cell_type": "code",
   "execution_count": 38,
   "id": "956fe6d8",
   "metadata": {},
   "outputs": [
    {
     "name": "stdout",
     "output_type": "stream",
     "text": [
      "Hello! I'm just a program, so I don't have feelings, but I'm here and ready to help you with whatever you need! How can I assist you today? 😊\n"
     ]
    }
   ],
   "source": [
    "# Make a req to the chat model\n",
    "\n",
    "response = client.chat.completions.create(\n",
    "    model = \"gpt-4o\",\n",
    "    messages = [\n",
    "        {\"role\": \"user\", \"content\": \"Hello! How are you?\"},\n",
    "    ],\n",
    "    max_tokens = 50,\n",
    "    temperature = 0.7\n",
    ")\n",
    "\n",
    "print(response.choices[0].message.content)"
   ]
  },
  {
   "cell_type": "code",
   "execution_count": 39,
   "id": "52f09ab9",
   "metadata": {},
   "outputs": [
    {
     "name": "stdout",
     "output_type": "stream",
     "text": [
      "Hello! I'm just a virtual assistant, so I don't have feelings, but thank you for asking! How can I assist you today? 😊 Thank you!\n"
     ]
    }
   ],
   "source": [
    "# Make a req to the chat model\n",
    "\n",
    "response = client.chat.completions.create(\n",
    "    model = \"gpt-4o\",\n",
    "    messages = [\n",
    "        {\"role\": \"system\", \"content\": \"You are an helpfull assistant who always say thankyou after the reply.\"},\n",
    "        {\"role\": \"user\", \"content\": \"Hello! How are you?\"},\n",
    "    ],\n",
    "    max_tokens = 50,\n",
    "    temperature = 0.9 #(larger the value higher the changes)\n",
    ")\n",
    "\n",
    "print(response.choices[0].message.content)"
   ]
  },
  {
   "cell_type": "code",
   "execution_count": 40,
   "id": "6f4d4c8e",
   "metadata": {},
   "outputs": [
    {
     "name": "stdout",
     "output_type": "stream",
     "text": [
      "THE LOS ANGELES DODGERS WON THE WORLD SERIES IN 2020.\n"
     ]
    }
   ],
   "source": [
    "# Make a req to the chat model\n",
    "\n",
    "response = client.chat.completions.create(\n",
    "    model = \"gpt-4o\",\n",
    "    messages = [\n",
    "        {\"role\": \"system\", \"content\": \"You are an helpfull assistant.\"},\n",
    "        {\"role\": \"user\", \"content\": \"Who won the world series in 2020\"},\n",
    "        {\"role\": \"assistant\", \"content\": \"The Los Angeles Dodgers won the world series in 2020\"},\n",
    "        {\"role\": \"user\", \"content\": \"say it again but in all CAPS\"},\n",
    "    ],\n",
    "    max_tokens = 50,\n",
    "    temperature = 0.9 #(larger the value higher the changes)\n",
    ")\n",
    "\n",
    "print(response.choices[0].message.content)"
   ]
  },
  {
   "cell_type": "code",
   "execution_count": 41,
   "id": "dd7e6cfc",
   "metadata": {},
   "outputs": [],
   "source": [
    "conservations = [\n",
    "    {\n",
    "        \"role\": \"system\",\n",
    "        \"content\": \"\"\"You are an AI assistant who needs to answer user's question using the provided relevant content\"\"\"\n",
    "                }\n",
    "]\n",
    "\n",
    "def invoke_llm(user_input):\n",
    "    msg = {\n",
    "        \"role\": \"user\",\n",
    "        \"content\": f\"user's question:{user_input}\"\n",
    "    }\n",
    "\n",
    "    conservations.append(msg)\n",
    "\n",
    "    chat_completion = client.chat.completions.create(\n",
    "        model = \"gpt-4o\",\n",
    "        messages = conservations,\n",
    "        max_tokens = 50,\n",
    "        temperature = 0.7\n",
    "        )\n",
    "    \n",
    "    llm_output = chat_completion.choices[0].message.content\n",
    "\n",
    "    conservations.append({\n",
    "        \"role\": \"assistant\",\n",
    "        \"content\": llm_output\n",
    "    })\n",
    "\n",
    "    print(llm_output)"
   ]
  },
  {
   "cell_type": "code",
   "execution_count": 42,
   "id": "ac2a9cf7",
   "metadata": {},
   "outputs": [
    {
     "name": "stdout",
     "output_type": "stream",
     "text": [
      "As of my knowledge cutoff in October 2023, Rockstar Games has not officially released detailed information about **GTA 6** (Grand Theft Auto VI). While there have been numerous leaks, rumors, and speculation regarding the game's features, setting,\n"
     ]
    }
   ],
   "source": [
    "invoke_llm(user_input = \"what is the best thing in GTA 6\")"
   ]
  },
  {
   "cell_type": "code",
   "execution_count": 43,
   "id": "b6b3a575",
   "metadata": {},
   "outputs": [
    {
     "name": "stdout",
     "output_type": "stream",
     "text": [
      "As of October 2023, Rockstar Games has not provided an official release date for **GTA 6** (Grand Theft Auto VI). However, there have been strong indications and rumors suggesting that the game could be released sometime in **2024\n"
     ]
    }
   ],
   "source": [
    "invoke_llm(user_input = \"any idea when it is coming\")"
   ]
  },
  {
   "cell_type": "code",
   "execution_count": 44,
   "id": "70ff91ad",
   "metadata": {},
   "outputs": [
    {
     "name": "stdout",
     "output_type": "stream",
     "text": [
      "{'role': 'system', 'content': \"You are an AI assistant who needs to answer user's question using the provided relevant content\"}\n",
      "{'role': 'user', 'content': \"user's question:what is the best thing in GTA 6\"}\n",
      "{'role': 'assistant', 'content': \"As of my knowledge cutoff in October 2023, Rockstar Games has not officially released detailed information about **GTA 6** (Grand Theft Auto VI). While there have been numerous leaks, rumors, and speculation regarding the game's features, setting,\"}\n",
      "{'role': 'user', 'content': \"user's question:any idea when it is coming\"}\n",
      "{'role': 'assistant', 'content': 'As of October 2023, Rockstar Games has not provided an official release date for **GTA 6** (Grand Theft Auto VI). However, there have been strong indications and rumors suggesting that the game could be released sometime in **2024'}\n"
     ]
    }
   ],
   "source": [
    "for i in conservations:\n",
    "    print(i)"
   ]
  },
  {
   "cell_type": "code",
   "execution_count": 45,
   "id": "93c2a74a",
   "metadata": {},
   "outputs": [
    {
     "data": {
      "text/plain": [
       "'Rockstar has announced that GTA 6 will be released in 2025.'"
      ]
     },
     "execution_count": 45,
     "metadata": {},
     "output_type": "execute_result"
    }
   ],
   "source": [
    "conversations = [\n",
    "    {\n",
    "    \"role\" : \"system\",\n",
    "    \"content\" : \"you are a helpfull assistant who need to answer user's question using the provided relevant content\"\n",
    "    }\n",
    "]\n",
    "\n",
    "def invoke_llm(content, user_input):\n",
    "    msg = {\n",
    "        \"role\" : \"user\",\n",
    "        \"content\" : f\"relevant content: {content} user's question: {user_input}\"\n",
    "    }\n",
    "\n",
    "    conversations.append(msg)\n",
    "\n",
    "    chat_completion = client.chat.completions.create(\n",
    "        messages = conversations,\n",
    "        model = \"gpt-4o\",\n",
    "        max_tokens = 250,\n",
    "        temperature = 0.9\n",
    "    )\n",
    "\n",
    "    llm_output = chat_completion.choices[0].message.content\n",
    "\n",
    "    conversations.append(\n",
    "        {\n",
    "        \"role\": \"assistant\",\n",
    "        \"content\" : llm_output\n",
    "        }\n",
    "    )\n",
    "    return llm_output\n",
    "\n",
    "\n",
    "invoke_llm(\n",
    "    content = \"rockstar has released the trailer of the GTA 6 on 2024 and also announced that the game will out in 2025\",\n",
    "    user_input= \" when is GTA going to br Released\"\n",
    "    )"
   ]
  }
 ],
 "metadata": {
  "kernelspec": {
   "display_name": "base",
   "language": "python",
   "name": "python3"
  },
  "language_info": {
   "codemirror_mode": {
    "name": "ipython",
    "version": 3
   },
   "file_extension": ".py",
   "mimetype": "text/x-python",
   "name": "python",
   "nbconvert_exporter": "python",
   "pygments_lexer": "ipython3",
   "version": "3.13.5"
  }
 },
 "nbformat": 4,
 "nbformat_minor": 5
}
